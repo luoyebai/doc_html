{
 "cells": [
  {
   "cell_type": "markdown",
   "id": "dd31a609-4817-4e83-b1f2-4bfe89db0e44",
   "metadata": {},
   "source": [
    "---\n",
    "# **Q1.** 为何编程？***（Why）***\n",
    "\n",
    "> 首先考虑第一个重要的问题：**为何**[***学习(点击查看)***](https://zh.wikipedia.org/wiki/%E5%AD%A6%E4%B9%A0)？\n",
    "---"
   ]
  },
  {
   "cell_type": "markdown",
   "id": "f30114c0-d479-41b5-9a16-cc56a02eb959",
   "metadata": {},
   "source": [
    "---\n",
    "## **灵魂拷问**：为什么要学习***xxx（Anything）***\n",
    "可能是萦绕在所有人头顶的一个<red>疑问</red>：\n",
    "\n",
    "- 为什么要学习？***（Why study?）***\n",
    "    - 比如：\n",
    "        - 为什么要学[***工具(点击查看)***](https://zh.wikipedia.org/wiki/%E6%95%B0%E5%AD%A6)\n",
    "        - 为什么要学[***数学（希腊语：μαθηματικά）(点击查看)***](https://zh.wikipedia.org/wiki/%E6%95%B0%E5%AD%A6)\n",
    "        - 为什么要学[***语言（英语：language，词源为拉丁语：lingua，意为“舌”）(点击查看)***](https://zh.wikipedia.org/wiki/%E8%AA%9E%E8%A8%80)\n",
    "- 只是为了***学会xxx（master somthing）？***\n",
    "--\n",
    "- 是，但不仅仅是这样***（Yes,but not only）***\n",
    "    - 不仅是学会\n",
    "    - 更是[创新***（英语：Innovation，源自拉丁语 innovare，“更新”）(点击查看)***](https://zh.wikipedia.org/wiki/%E5%89%B5%E6%96%B0)\n",
    "----"
   ]
  },
  {
   "cell_type": "markdown",
   "id": "ed9f601e-fa22-41ea-a271-b7828ab68f25",
   "metadata": {},
   "source": [
    "---\n",
    "## **学习工具**的重要性\n",
    "\n",
    "工具能帮助人类\n",
    "\n",
    "- 能帮助人类做到原先做不到的事情 \n",
    "- 能帮助人类更轻松地做到某些事情\n",
    "- 能帮助人类“不需要做某些事情”\n",
    "    - [自动机***（英语：Automaton，又称自动机器、自动机械）(点击查看)***](https://zh.wikipedia.org/wiki/%E8%87%AA%E5%8B%95%E6%A9%9F)\n",
    "    - [电子计算机***（英语：Computer）(点击查看)***](https://zh.wikipedia.org/wiki/%E7%94%B5%E5%AD%90%E8%AE%A1%E7%AE%97%E6%9C%BA)\n",
    "    - [ChatGPT***（英语全称：Chat Generative Pre-trained Transformer）(点击查看)***](https://zh.wikipedia.org/wiki/ChatGPT)\n",
    "- **数学/语言**也是工具\n",
    "\n",
    "> 君子性非异也，善假于物也———[荀子]《劝学》\n",
    "---"
   ]
  },
  {
   "cell_type": "markdown",
   "id": "22fed252-5ad4-4796-88d3-0661f99692ae",
   "metadata": {},
   "source": [
    "---\n",
    "## **学习思想**的重要性\n",
    "\n",
    "除了学习工具，还有思想\n",
    "\n",
    "- 学习某种[理论***（英语：theory）(点击查看)***](https://zh.wikipedia.org/wiki/%E7%90%86%E8%AB%96)\n",
    "---"
   ]
  },
  {
   "cell_type": "markdown",
   "id": "f10c7464-8872-42d2-a95b-e24c607fdd3c",
   "metadata": {},
   "source": [
    "----\n",
    "\n",
    "## 来看看历史\n",
    "\n",
    "- [编程语言历史(点击查看)](https://zh.wikipedia.org/zh-cn/%E7%A8%8B%E5%BC%8F%E8%AA%9E%E8%A8%80%E6%AD%B7%E5%8F%B2)\n",
    "- [图灵机***（英语：Turing machine）(点击查看)***](https://zh.wikipedia.org/wiki/%E5%9B%BE%E7%81%B5%E6%9C%BA)\n",
    "- [电子计算机***（英语：Computer）(点击查看)***](https://zh.wikipedia.org/wiki/%E7%94%B5%E5%AD%90%E8%AE%A1%E7%AE%97%E6%9C%BA)\n",
    "\n",
    "> 第一个编程语言的出现早于现代的计算机的诞生。首先，这种语言是种[代码(点击查看)](https://zh.wikipedia.org/wiki/%E4%BB%A3%E7%A0%81)。 \n",
    "\n",
    "----"
   ]
  },
  {
   "cell_type": "markdown",
   "id": "de9d9c02-5b09-41f9-85dd-d5e47449ae2f",
   "metadata": {},
   "source": [
    "----\n",
    "\n",
    "## 重点讲讲图灵机\n",
    "\n",
    "- 一台图灵机是一个七元有序组$（Q,\\Sigma,\\Gamma,\\delta,q_0,q_{accept},q_{reject}）$都是[有限集合(点击查看)](https://zh.wikipedia.org/wiki/%E6%9C%89%E9%99%90%E9%9B%86%E5%90%88)，且满足：\n",
    "\n",
    "![Animation](./img/animation.gif)\n",
    "\n",
    "----"
   ]
  }
 ],
 "metadata": {
  "kernelspec": {
   "display_name": "Python 3 (ipykernel)",
   "language": "python",
   "name": "python3"
  },
  "language_info": {
   "codemirror_mode": {
    "name": "ipython",
    "version": 3
   },
   "file_extension": ".py",
   "mimetype": "text/x-python",
   "name": "python",
   "nbconvert_exporter": "python",
   "pygments_lexer": "ipython3",
   "version": "3.11.7"
  }
 },
 "nbformat": 4,
 "nbformat_minor": 5
}
